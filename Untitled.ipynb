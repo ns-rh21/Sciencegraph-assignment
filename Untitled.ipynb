{
 "cells": [
  {
   "cell_type": "code",
   "execution_count": 1,
   "metadata": {},
   "outputs": [
    {
     "name": "stdout",
     "output_type": "stream",
     "text": [
      "Collecting rdflib\n",
      "  Downloading https://files.pythonhosted.org/packages/3c/fe/630bacb652680f6d481b9febbb3e2c3869194a1a5fc3401a4a41195a2f8f/rdflib-4.2.2-py3-none-any.whl (344kB)\n",
      "Requirement already satisfied: pandas in c:\\users\\tmfk\\anaconda3\\lib\\site-packages (0.24.2)\n",
      "Requirement already satisfied: scipy in c:\\users\\tmfk\\anaconda3\\lib\\site-packages (1.2.1)\n",
      "Requirement already satisfied: numpy in c:\\users\\tmfk\\anaconda3\\lib\\site-packages (1.16.2)\n",
      "Requirement already satisfied: pyparsing in c:\\users\\tmfk\\anaconda3\\lib\\site-packages (from rdflib) (2.3.1)\n",
      "Collecting isodate (from rdflib)\n",
      "  Downloading https://files.pythonhosted.org/packages/9b/9f/b36f7774ff5ea8e428fdcfc4bb332c39ee5b9362ddd3d40d9516a55221b2/isodate-0.6.0-py2.py3-none-any.whl (45kB)\n",
      "Requirement already satisfied: python-dateutil>=2.5.0 in c:\\users\\tmfk\\anaconda3\\lib\\site-packages (from pandas) (2.8.0)\n",
      "Requirement already satisfied: pytz>=2011k in c:\\users\\tmfk\\anaconda3\\lib\\site-packages (from pandas) (2018.9)\n",
      "Requirement already satisfied: six in c:\\users\\tmfk\\anaconda3\\lib\\site-packages (from isodate->rdflib) (1.12.0)\n",
      "Installing collected packages: isodate, rdflib\n",
      "Successfully installed isodate-0.6.0 rdflib-4.2.2\n"
     ]
    }
   ],
   "source": [
    "!pip install rdflib pandas scipy numpy"
   ]
  },
  {
   "cell_type": "code",
   "execution_count": null,
   "metadata": {},
   "outputs": [],
   "source": []
  },
  {
   "cell_type": "code",
   "execution_count": 3,
   "metadata": {},
   "outputs": [
    {
     "name": "stdout",
     "output_type": "stream",
     "text": [
      "****************PART1(t-test)*****************\n",
      "Non-failing heart data (NF):\n",
      "[ 95. 103.  99.]\n",
      "failing heart data (F):\n",
      "[50. 35. 21. 15.  7. 40.]\n",
      "NF Mean value: 99.0\n",
      "F Mean value: 28.0\n",
      "NF std value: 3.265986323710904\n",
      "F std value: 14.922019523732928\n",
      "p-value: 0.00018016897790311737\n",
      "H0 is rejected!\n",
      "****************PART2(RDF)*****************\n",
      "b'<?xml version=\"1.0\" encoding=\"UTF-8\"?>\\n<rdf:RDF\\n   xmlns:obo=\"http://purl.obolibrary.org/obo/\"\\n   xmlns:rdf=\"http://www.w3.org/1999/02/22-rdf-syntax-ns#\"\\n>\\n  <rdf:Description rdf:about=\"http://example.org/i\">\\n    <obo:OBI_0001937 rdf:datatype=\"http://www.w3.org/2001/XMLSchema#double\">0.00018</obo:OBI_0001937>\\n    <rdf:datatype rdf:resource=\"http://www.w3.org/2001/XMLSchema#double\"/>\\n  </rdf:Description>\\n  <rdf:Description rdf:nodeID=\"N0d64c063ab6e477d8e3e11eea92f9385\">\\n    <rdf:type rdf:resource=\"http://purl.obolibrary.org/obo/STATO_0000304\"/>\\n    <obo:OBI_0000299 rdf:resource=\"http://purl.obolibrary.org/obo/OBI_0000175\"/>\\n    <obo:OBI_0000293 rdf:nodeID=\"N0663292f288d40ebb5365997d004ca24\"/>\\n  </rdf:Description>\\n  <rdf:Description rdf:about=\"http://purl.obolibrary.org/obo/OBI_0000175\">\\n    <rdf:type rdf:resource=\"http://purl.obolibrary.org/obo/OBI_0001931\"/>\\n    <obo:OBI_0001938 rdf:resource=\"http://example.org/i\"/>\\n  </rdf:Description>\\n  <rdf:Description rdf:nodeID=\"N0663292f288d40ebb5365997d004ca24\">\\n    <rdf:type rdf:resource=\"http://purl.obolibrary.org/obo/GO_0030350\"/>\\n  </rdf:Description>\\n</rdf:RDF>\\n'\n",
      "****************PART3(SPARQL)*****************\n",
      "p_value: 0.00018\n"
     ]
    }
   ],
   "source": [
    "from rdflib import Graph, URIRef, BNode, Literal,RDF\n",
    "from scipy.stats import ttest_ind\n",
    "import numpy as np\n",
    "# read data from 2 files \n",
    "heart1 = np.genfromtxt(\"heart1.csv\",  delimiter=\",\")\n",
    "heart2 = np.genfromtxt(\"heart2.csv\",  delimiter=\",\")\n",
    "print(\"****************PART1(t-test)*****************\")\n",
    "print(\"Non-failing heart data (NF):\")\n",
    "print(heart1)\n",
    "print(\"failing heart data (F):\")\n",
    "print(heart2)\n",
    "heart1_mean = np.mean(heart1)\n",
    "heart2_mean = np.mean(heart2)\n",
    "print(\"NF Mean value:\",heart1_mean)\n",
    "print(\"F Mean value:\",heart2_mean)\n",
    "heart1_std = np.std(heart1)\n",
    "heart2_std = np.std(heart2)\n",
    "print(\"NF std value:\",heart1_std)\n",
    "print(\"F std value:\",heart2_std)\n",
    "ttest,pval = ttest_ind(heart1,heart2)\n",
    "print(\"p-value:\",pval)\n",
    "if pval <0.05:\n",
    "  print(\"H0 is rejected!\")\n",
    "else:\n",
    "  print(\"H0 is accepted\")\n",
    "print(\"****************PART2(RDF)*****************\")\n",
    "# Describe the statistical hypothesis test in machine readable form\n",
    "from rdflib.namespace import XSD\n",
    "# First, we initialize an RDF Graph and bind some prefixes\n",
    "g = Graph()\n",
    "g.bind('obo', 'http://purl.obolibrary.org/obo/')\n",
    "g.bind('ex', 'http://example.org/')\n",
    "# I have saved my data in 2 file and read data in heart1 & heart2 separately.\n",
    "# Next, we define some needed vocabulary\n",
    "obo = dict()\n",
    "obo['two sample t-test with unequal variance'] = URIRef('http://purl.obolibrary.org/obo/STATO_0000304')\n",
    "obo['has specified input'] = URIRef('http://purl.obolibrary.org/obo/OBI_0000293')\n",
    "obo['has specified output'] = URIRef('http://purl.obolibrary.org/obo/OBI_0000299')\n",
    "obo['p-value'] = URIRef('http://purl.obolibrary.org/obo/OBI_0000175')\n",
    "obo['has value specification'] = URIRef('http://purl.obolibrary.org/obo/OBI_0001938')\n",
    "obo['scalar value specification'] = URIRef('http://purl.obolibrary.org/obo/OBI_0001931')\n",
    "obo['has specified numeric value'] = URIRef('http://purl.obolibrary.org/obo/OBI_0001937')\n",
    "obo['iron-responsive element binding'] = URIRef('http://purl.obolibrary.org/obo/GO_0030350')\n",
    "i = URIRef('http://example.org/i')\n",
    "# Now, populate the graph with statements\n",
    "# As an example, the following statement types the resource (blank node) 'n1' as 'two sample t-test with unequal variance'\n",
    "n1 = BNode()\n",
    "g.add((n1, RDF.type, obo['two sample t-test with unequal variance']))\n",
    "\n",
    "# Now, state that the t-test has iron-responsive element binding as a specified input (one statement to complete)\n",
    "n2 = BNode()\n",
    "g.add((n1, obo['has specified input'], n2))\n",
    "g.add((n2, RDF.type, obo['iron-responsive element binding']))\n",
    "\n",
    "# Next, state that the t-test has the p-value computed above as a specified output (two statements to complete)\n",
    "g.add((n1, obo['has specified output'], obo['p-value']))\n",
    "g.add((obo['p-value'], RDF.type,obo['scalar value specification']))\n",
    "# The literal value of the p-value is represented as a scalar value specification with a specified numeric value (three statements to complete)\n",
    "g.add(( obo['p-value'], obo['has value specification'], i))\n",
    "g.add((i, RDF.datatype, XSD.double))\n",
    "# Type the literal as double\n",
    "g.add((i, obo['has specified numeric value'], Literal(0.00018)))\n",
    "# Finally, serialize and print the graph in RDF/XML format\n",
    "print(g.serialize(format='xml'))\n",
    "\n",
    "# Process the machine readable statistical hypothesis test by completing the following SPARQL query that returns the p-value\n",
    "print(\"****************PART3(SPARQL)*****************\")\n",
    "q = \"\"\"\n",
    "PREFIX obo: <http://purl.obolibrary.org/obo/>\n",
    "SELECT ?pvalue WHERE {\n",
    "  ?r a obo:STATO_0000304 .\n",
    "  ?r obo:OBI_0000293 [ a obo:GO_0030350 ].\n",
    "  ?r obo:OBI_0000299  obo:OBI_0000175.\n",
    "  obo:OBI_0000175 a obo:OBI_0001931.\n",
    "  obo:OBI_0000175 obo:OBI_0001938 ?v.\n",
    "  ?v obo:OBI_0001937 ?pvalue.\n",
    "                      \n",
    "                    }\n",
    "                \"\"\"\n",
    "for qs in g.query(q):\n",
    "    print(\"p_value:\",qs[0])"
   ]
  },
  {
   "cell_type": "code",
   "execution_count": null,
   "metadata": {},
   "outputs": [],
   "source": []
  }
 ],
 "metadata": {
  "kernelspec": {
   "display_name": "Python 3",
   "language": "python",
   "name": "python3"
  },
  "language_info": {
   "codemirror_mode": {
    "name": "ipython",
    "version": 3
   },
   "file_extension": ".py",
   "mimetype": "text/x-python",
   "name": "python",
   "nbconvert_exporter": "python",
   "pygments_lexer": "ipython3",
   "version": "3.7.3"
  }
 },
 "nbformat": 4,
 "nbformat_minor": 2
}
